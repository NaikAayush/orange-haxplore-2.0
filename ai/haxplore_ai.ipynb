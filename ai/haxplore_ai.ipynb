{
  "nbformat": 4,
  "nbformat_minor": 0,
  "metadata": {
    "colab": {
      "name": "haxplore-ai.ipynb",
      "provenance": []
    },
    "kernelspec": {
      "name": "python3",
      "display_name": "Python 3"
    },
    "language_info": {
      "name": "python"
    }
  },
  "cells": [
    {
      "cell_type": "code",
      "metadata": {
        "id": "1_48aSoxL9Ad"
      },
      "source": [
        "!pip install auto-sklearn"
      ],
      "execution_count": null,
      "outputs": []
    },
    {
      "cell_type": "code",
      "metadata": {
        "id": "_KzxxuzyMowq"
      },
      "source": [
        "!pip install dask distributed --upgrade"
      ],
      "execution_count": null,
      "outputs": []
    },
    {
      "cell_type": "code",
      "metadata": {
        "colab": {
          "base_uri": "https://localhost:8080/"
        },
        "id": "kmXpmMonKmm_",
        "outputId": "710f9068-10d9-4c75-a53b-5930d1214430"
      },
      "source": [
        "import json\n",
        "\n",
        "import pandas as pd\n",
        "\n",
        "from autosklearn import classification"
      ],
      "execution_count": 1,
      "outputs": [
        {
          "output_type": "stream",
          "text": [
            "/usr/local/lib/python3.7/dist-packages/pyparsing.py:3190: FutureWarning: Possible set intersection at position 3\n",
            "  self.re = re.compile(self.reString)\n"
          ],
          "name": "stderr"
        }
      ]
    },
    {
      "cell_type": "code",
      "metadata": {
        "id": "ycNwgWInMyvN"
      },
      "source": [
        "sample_data = [{'p_date': '2021-03-28T03:21:35.804Z',\n",
        " 'p_id': '001',\n",
        " 'p_loc': 'bangalore',\n",
        " 'p_name': 'AK',\n",
        " 'p_w': '2021-03-28T03:21:35.804Z',\n",
        " 's_date': '2021-03-28T04:34:46.949Z',\n",
        " 's_loc': 'Bangalore',\n",
        " 's_name': 'Vision Enterprises',\n",
        " 's_t': '26',\n",
        " 's_w': '2021-03-28T04:34:46.949Z',\n",
        " 'se_date': '2021-03-28T04:40:16.007Z',\n",
        " 'se_id': '045',\n",
        " 'se_loc': 'Chennai',\n",
        " 'se_name': 'Anna Enterprises',\n",
        " 'se_w': '500',\n",
        " 'valid': True},\n",
        " {'p_date': '2021-02-28T03:21:35.804Z',\n",
        " 'p_id': '001',\n",
        " 'p_loc': 'bangalore',\n",
        " 'p_name': 'AK',\n",
        " 'p_w': '2021-02-28T03:21:35.804Z',\n",
        " 's_date': '2021-02-28T04:34:46.949Z',\n",
        " 's_loc': 'Bangalore',\n",
        " 's_name': 'Vision Enterprises',\n",
        " 's_t': '35',\n",
        " 's_w': '2021-02-28T04:34:46.949Z',\n",
        " 'se_date': '2021-02-28T04:40:16.007Z',\n",
        " 'se_id': '045',\n",
        " 'se_loc': 'Chennai',\n",
        " 'se_name': 'Anna Enterprises',\n",
        " 'se_w': '500',\n",
        " 'valid': False}\n",
        " ]"
      ],
      "execution_count": 20,
      "outputs": []
    },
    {
      "cell_type": "code",
      "metadata": {
        "id": "kVVmp88ZLNrG"
      },
      "source": [
        "# sample_data = {}\n",
        "# for k,v in sample_data1.items():\n",
        "#     sample_data[k] = [v]"
      ],
      "execution_count": 21,
      "outputs": []
    },
    {
      "cell_type": "code",
      "metadata": {
        "colab": {
          "base_uri": "https://localhost:8080/"
        },
        "id": "ZOm4Ai4yLgLP",
        "outputId": "b02bffbe-3cfe-4d27-b499-6be3910d1479"
      },
      "source": [
        "sample_data"
      ],
      "execution_count": 22,
      "outputs": [
        {
          "output_type": "execute_result",
          "data": {
            "text/plain": [
              "[{'p_date': '2021-03-28T03:21:35.804Z',\n",
              "  'p_id': '001',\n",
              "  'p_loc': 'bangalore',\n",
              "  'p_name': 'AK',\n",
              "  'p_w': '2021-03-28T03:21:35.804Z',\n",
              "  's_date': '2021-03-28T04:34:46.949Z',\n",
              "  's_loc': 'Bangalore',\n",
              "  's_name': 'Vision Enterprises',\n",
              "  's_t': '26',\n",
              "  's_w': '2021-03-28T04:34:46.949Z',\n",
              "  'se_date': '2021-03-28T04:40:16.007Z',\n",
              "  'se_id': '045',\n",
              "  'se_loc': 'Chennai',\n",
              "  'se_name': 'Anna Enterprises',\n",
              "  'se_w': '500',\n",
              "  'valid': True},\n",
              " {'p_date': '2021-02-28T03:21:35.804Z',\n",
              "  'p_id': '001',\n",
              "  'p_loc': 'bangalore',\n",
              "  'p_name': 'AK',\n",
              "  'p_w': '2021-02-28T03:21:35.804Z',\n",
              "  's_date': '2021-02-28T04:34:46.949Z',\n",
              "  's_loc': 'Bangalore',\n",
              "  's_name': 'Vision Enterprises',\n",
              "  's_t': '35',\n",
              "  's_w': '2021-02-28T04:34:46.949Z',\n",
              "  'se_date': '2021-02-28T04:40:16.007Z',\n",
              "  'se_id': '045',\n",
              "  'se_loc': 'Chennai',\n",
              "  'se_name': 'Anna Enterprises',\n",
              "  'se_w': '500',\n",
              "  'valid': False}]"
            ]
          },
          "metadata": {
            "tags": []
          },
          "execution_count": 22
        }
      ]
    },
    {
      "cell_type": "code",
      "metadata": {
        "id": "czcP0Xk0Kq_C"
      },
      "source": [
        "df = pd.DataFrame(sample_data)"
      ],
      "execution_count": 59,
      "outputs": []
    },
    {
      "cell_type": "code",
      "metadata": {
        "colab": {
          "base_uri": "https://localhost:8080/",
          "height": 111
        },
        "id": "cEMu6_DvKypy",
        "outputId": "78c5546c-819e-4051-f45d-d095327c4631"
      },
      "source": [
        "df"
      ],
      "execution_count": 66,
      "outputs": [
        {
          "output_type": "execute_result",
          "data": {
            "text/html": [
              "<div>\n",
              "<style scoped>\n",
              "    .dataframe tbody tr th:only-of-type {\n",
              "        vertical-align: middle;\n",
              "    }\n",
              "\n",
              "    .dataframe tbody tr th {\n",
              "        vertical-align: top;\n",
              "    }\n",
              "\n",
              "    .dataframe thead th {\n",
              "        text-align: right;\n",
              "    }\n",
              "</style>\n",
              "<table border=\"1\" class=\"dataframe\">\n",
              "  <thead>\n",
              "    <tr style=\"text-align: right;\">\n",
              "      <th></th>\n",
              "      <th>p_date</th>\n",
              "      <th>p_id</th>\n",
              "      <th>p_loc</th>\n",
              "      <th>p_name</th>\n",
              "      <th>p_w</th>\n",
              "      <th>s_date</th>\n",
              "      <th>s_loc</th>\n",
              "      <th>s_name</th>\n",
              "      <th>s_t</th>\n",
              "      <th>s_w</th>\n",
              "      <th>se_date</th>\n",
              "      <th>se_id</th>\n",
              "      <th>se_loc</th>\n",
              "      <th>se_name</th>\n",
              "      <th>se_w</th>\n",
              "      <th>valid</th>\n",
              "    </tr>\n",
              "  </thead>\n",
              "  <tbody>\n",
              "    <tr>\n",
              "      <th>0</th>\n",
              "      <td>1616901695</td>\n",
              "      <td>001</td>\n",
              "      <td>bangalore</td>\n",
              "      <td>AK</td>\n",
              "      <td>1616901695</td>\n",
              "      <td>1616906086</td>\n",
              "      <td>Bangalore</td>\n",
              "      <td>Vision Enterprises</td>\n",
              "      <td>26</td>\n",
              "      <td>1616906086</td>\n",
              "      <td>1616906416</td>\n",
              "      <td>045</td>\n",
              "      <td>Chennai</td>\n",
              "      <td>Anna Enterprises</td>\n",
              "      <td>500</td>\n",
              "      <td>True</td>\n",
              "    </tr>\n",
              "    <tr>\n",
              "      <th>1</th>\n",
              "      <td>1614482495</td>\n",
              "      <td>001</td>\n",
              "      <td>bangalore</td>\n",
              "      <td>AK</td>\n",
              "      <td>1614482495</td>\n",
              "      <td>1614486886</td>\n",
              "      <td>Bangalore</td>\n",
              "      <td>Vision Enterprises</td>\n",
              "      <td>35</td>\n",
              "      <td>1614486886</td>\n",
              "      <td>1614487216</td>\n",
              "      <td>045</td>\n",
              "      <td>Chennai</td>\n",
              "      <td>Anna Enterprises</td>\n",
              "      <td>500</td>\n",
              "      <td>False</td>\n",
              "    </tr>\n",
              "  </tbody>\n",
              "</table>\n",
              "</div>"
            ],
            "text/plain": [
              "       p_date p_id      p_loc p_name  ...   se_loc           se_name se_w  valid\n",
              "0  1616901695  001  bangalore     AK  ...  Chennai  Anna Enterprises  500   True\n",
              "1  1614482495  001  bangalore     AK  ...  Chennai  Anna Enterprises  500  False\n",
              "\n",
              "[2 rows x 16 columns]"
            ]
          },
          "metadata": {
            "tags": []
          },
          "execution_count": 66
        }
      ]
    },
    {
      "cell_type": "code",
      "metadata": {
        "colab": {
          "base_uri": "https://localhost:8080/"
        },
        "id": "Pl_UxF16PqwV",
        "outputId": "5d6ebd4e-0dce-4bbb-e21d-aa562689afdd"
      },
      "source": [
        "df[\"p_date\"] = pd.to_datetime(df[\"p_date\"])\n",
        "df[\"p_w\"] = pd.to_datetime(df[\"p_w\"])\n",
        "df[\"s_date\"] = pd.to_datetime(df[\"s_date\"])\n",
        "df[\"s_w\"] = pd.to_datetime(df[\"s_w\"])\n",
        "df[\"se_date\"] = pd.to_datetime(df[\"se_date\"])\n",
        "for col in [\"p_date\", \"p_w\", \"s_date\", \"s_w\", \"se_date\"]:\n",
        "    df[col] = (pd.to_datetime(df[col]) - pd.Timestamp(\"1970-01-01\", tz=\"UTC\")) // pd.Timedelta('1s')\n",
        "    print(df[col])"
      ],
      "execution_count": 65,
      "outputs": [
        {
          "output_type": "stream",
          "text": [
            "0    1616901695\n",
            "1    1614482495\n",
            "Name: p_date, dtype: int64\n",
            "0    1616901695\n",
            "1    1614482495\n",
            "Name: p_w, dtype: int64\n",
            "0    1616906086\n",
            "1    1614486886\n",
            "Name: s_date, dtype: int64\n",
            "0    1616906086\n",
            "1    1614486886\n",
            "Name: s_w, dtype: int64\n",
            "0    1616906416\n",
            "1    1614487216\n",
            "Name: se_date, dtype: int64\n"
          ],
          "name": "stdout"
        }
      ]
    },
    {
      "cell_type": "code",
      "metadata": {
        "id": "O1HHFKljV2wk"
      },
      "source": [
        "df[\"s_t\"] = pd.to_numeric(df[\"s_t\"])"
      ],
      "execution_count": 86,
      "outputs": []
    },
    {
      "cell_type": "code",
      "metadata": {
        "id": "LFZXcskcK_PY"
      },
      "source": [
        "x_cols = [\"p_date\", \"p_w\", \"s_date\", \"s_w\", \"se_date\", \"s_t\"]"
      ],
      "execution_count": 87,
      "outputs": []
    },
    {
      "cell_type": "code",
      "metadata": {
        "id": "r7a9J7D2NwYb"
      },
      "source": [
        "y_cols = {\"valid\"}"
      ],
      "execution_count": 88,
      "outputs": []
    },
    {
      "cell_type": "code",
      "metadata": {
        "id": "sup6ypRHN4C4"
      },
      "source": [
        "X = df[x_cols]"
      ],
      "execution_count": 89,
      "outputs": []
    },
    {
      "cell_type": "code",
      "metadata": {
        "id": "SRExmXpwN5f6"
      },
      "source": [
        "Y = df[y_cols]"
      ],
      "execution_count": 90,
      "outputs": []
    },
    {
      "cell_type": "code",
      "metadata": {
        "colab": {
          "base_uri": "https://localhost:8080/",
          "height": 111
        },
        "id": "GOpJJ8hLN7Vq",
        "outputId": "744d0cf2-a8ab-4132-bc34-fcdc26e92f8e"
      },
      "source": [
        "X"
      ],
      "execution_count": 91,
      "outputs": [
        {
          "output_type": "execute_result",
          "data": {
            "text/html": [
              "<div>\n",
              "<style scoped>\n",
              "    .dataframe tbody tr th:only-of-type {\n",
              "        vertical-align: middle;\n",
              "    }\n",
              "\n",
              "    .dataframe tbody tr th {\n",
              "        vertical-align: top;\n",
              "    }\n",
              "\n",
              "    .dataframe thead th {\n",
              "        text-align: right;\n",
              "    }\n",
              "</style>\n",
              "<table border=\"1\" class=\"dataframe\">\n",
              "  <thead>\n",
              "    <tr style=\"text-align: right;\">\n",
              "      <th></th>\n",
              "      <th>p_date</th>\n",
              "      <th>p_w</th>\n",
              "      <th>s_date</th>\n",
              "      <th>s_w</th>\n",
              "      <th>se_date</th>\n",
              "      <th>s_t</th>\n",
              "    </tr>\n",
              "  </thead>\n",
              "  <tbody>\n",
              "    <tr>\n",
              "      <th>0</th>\n",
              "      <td>1616901695</td>\n",
              "      <td>1616901695</td>\n",
              "      <td>1616906086</td>\n",
              "      <td>1616906086</td>\n",
              "      <td>1616906416</td>\n",
              "      <td>26</td>\n",
              "    </tr>\n",
              "    <tr>\n",
              "      <th>1</th>\n",
              "      <td>1614482495</td>\n",
              "      <td>1614482495</td>\n",
              "      <td>1614486886</td>\n",
              "      <td>1614486886</td>\n",
              "      <td>1614487216</td>\n",
              "      <td>35</td>\n",
              "    </tr>\n",
              "  </tbody>\n",
              "</table>\n",
              "</div>"
            ],
            "text/plain": [
              "       p_date         p_w      s_date         s_w     se_date  s_t\n",
              "0  1616901695  1616901695  1616906086  1616906086  1616906416   26\n",
              "1  1614482495  1614482495  1614486886  1614486886  1614487216   35"
            ]
          },
          "metadata": {
            "tags": []
          },
          "execution_count": 91
        }
      ]
    },
    {
      "cell_type": "code",
      "metadata": {
        "colab": {
          "base_uri": "https://localhost:8080/",
          "height": 111
        },
        "id": "-RjNEBtEN8WJ",
        "outputId": "0027e085-141e-4f91-c934-35599c4aa986"
      },
      "source": [
        "Y"
      ],
      "execution_count": 92,
      "outputs": [
        {
          "output_type": "execute_result",
          "data": {
            "text/html": [
              "<div>\n",
              "<style scoped>\n",
              "    .dataframe tbody tr th:only-of-type {\n",
              "        vertical-align: middle;\n",
              "    }\n",
              "\n",
              "    .dataframe tbody tr th {\n",
              "        vertical-align: top;\n",
              "    }\n",
              "\n",
              "    .dataframe thead th {\n",
              "        text-align: right;\n",
              "    }\n",
              "</style>\n",
              "<table border=\"1\" class=\"dataframe\">\n",
              "  <thead>\n",
              "    <tr style=\"text-align: right;\">\n",
              "      <th></th>\n",
              "      <th>valid</th>\n",
              "    </tr>\n",
              "  </thead>\n",
              "  <tbody>\n",
              "    <tr>\n",
              "      <th>0</th>\n",
              "      <td>True</td>\n",
              "    </tr>\n",
              "    <tr>\n",
              "      <th>1</th>\n",
              "      <td>False</td>\n",
              "    </tr>\n",
              "  </tbody>\n",
              "</table>\n",
              "</div>"
            ],
            "text/plain": [
              "   valid\n",
              "0   True\n",
              "1  False"
            ]
          },
          "metadata": {
            "tags": []
          },
          "execution_count": 92
        }
      ]
    },
    {
      "cell_type": "code",
      "metadata": {
        "id": "hgOB7_FhN8uE"
      },
      "source": [
        "# automl = classification.AutoSklearnClassifier(ensemble_size=0)"
      ],
      "execution_count": 102,
      "outputs": []
    },
    {
      "cell_type": "code",
      "metadata": {
        "id": "Te80z9-aOITp"
      },
      "source": [
        "# automl.fit(X, Y)"
      ],
      "execution_count": 101,
      "outputs": []
    },
    {
      "cell_type": "code",
      "metadata": {
        "id": "h169rOvGOZxp"
      },
      "source": [
        "from sklearn.ensemble import RandomForestClassifier"
      ],
      "execution_count": 97,
      "outputs": []
    },
    {
      "cell_type": "code",
      "metadata": {
        "id": "b3QCN-IdXaOg"
      },
      "source": [
        "classifier = RandomForestClassifier()"
      ],
      "execution_count": 98,
      "outputs": []
    },
    {
      "cell_type": "code",
      "metadata": {
        "colab": {
          "base_uri": "https://localhost:8080/"
        },
        "id": "HICvmipJXg5L",
        "outputId": "f16b4e29-9e20-4c33-cf84-189a23f12651"
      },
      "source": [
        "classifier.fit(X, Y)"
      ],
      "execution_count": 99,
      "outputs": [
        {
          "output_type": "stream",
          "text": [
            "/usr/local/lib/python3.7/dist-packages/ipykernel_launcher.py:1: DataConversionWarning: A column-vector y was passed when a 1d array was expected. Please change the shape of y to (n_samples,), for example using ravel().\n",
            "  \"\"\"Entry point for launching an IPython kernel.\n"
          ],
          "name": "stderr"
        },
        {
          "output_type": "execute_result",
          "data": {
            "text/plain": [
              "RandomForestClassifier()"
            ]
          },
          "metadata": {
            "tags": []
          },
          "execution_count": 99
        }
      ]
    },
    {
      "cell_type": "code",
      "metadata": {
        "colab": {
          "base_uri": "https://localhost:8080/"
        },
        "id": "Z0LkRBNpXq__",
        "outputId": "163b3453-cdd6-4533-946f-7c9b1efcd694"
      },
      "source": [
        "classifier.predict(X)"
      ],
      "execution_count": 100,
      "outputs": [
        {
          "output_type": "execute_result",
          "data": {
            "text/plain": [
              "array([ True, False])"
            ]
          },
          "metadata": {
            "tags": []
          },
          "execution_count": 100
        }
      ]
    },
    {
      "cell_type": "code",
      "metadata": {
        "id": "onWtfl9qb_3d"
      },
      "source": [
        ""
      ],
      "execution_count": null,
      "outputs": []
    }
  ]
}